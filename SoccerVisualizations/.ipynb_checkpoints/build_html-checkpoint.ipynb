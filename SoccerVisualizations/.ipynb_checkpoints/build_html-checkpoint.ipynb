{
 "cells": [
  {
   "cell_type": "markdown",
   "metadata": {},
   "source": [
    "# Html"
   ]
  },
  {
   "cell_type": "code",
   "execution_count": 52,
   "metadata": {},
   "outputs": [],
   "source": [
    "import pandas as pd"
   ]
  },
  {
   "cell_type": "markdown",
   "metadata": {},
   "source": [
    "### file paths"
   ]
  },
  {
   "cell_type": "code",
   "execution_count": 53,
   "metadata": {},
   "outputs": [],
   "source": [
    "# Data -- csv files\n",
    "csv_attendance = \"Resources/All_Attendance_Data.csv\"\n",
    "csv_weather = \"Resources/All_Weather_Data.csv\"\n",
    "\n",
    "# Write to html files\n",
    "#-- main html\n",
    "soccer_html = \"soccer.html\"\n",
    "#-- plots\n",
    "attendance_plot = \"Visualizations/attendance.html\"\n",
    "weather_plot = \"Visualizations/weather.html\"\n",
    "#-- data\n",
    "data_attendance = \"Data/att.html\"\n",
    "data_weather = \"Data/weather.html\"\n",
    "#-- the comparison bar graphs for four leagues ???\n",
    "comparison_html = \"comparison.html\""
   ]
  },
  {
   "cell_type": "markdown",
   "metadata": {},
   "source": [
    "### Head and end"
   ]
  },
  {
   "cell_type": "code",
   "execution_count": 54,
   "metadata": {},
   "outputs": [],
   "source": [
    "head_section = \"\"\"\n",
    "<!DOCTYPE html>\n",
    "<html lang=\"en\">\n",
    "<head>\n",
    "    <meta charset=\"UTF-8\">\n",
    "    <meta name=\"viewport\" content=\"width=device-width, initial-scale=1.0\">\n",
    "    <title>Visualization of Latitude vs. Max. Temperature </title>\n",
    "\n",
    "\n",
    "  <!-- Bring in our bootstrap stylesheet -->\n",
    "  <link rel=\"stylesheet\" href=\"https://stackpath.bootstrapcdn.com/bootstrap/4.3.1/css/bootstrap.min.css\" integrity=\"sha384-ggOyR0iXCbMQv3Xipma34MD+dH/1fQ784/j6cY/iJTQUOhcWr7x9JvoRxT2MZw1T\" crossorigin=\"anonymous\">\n",
    "  <link rel=\"stylesheet\" href=\"style.css\">\n",
    "\n",
    "</head>\n",
    "\n",
    "<body>\n",
    "\"\"\"\n",
    "\n",
    "end_section = \"\"\"\n",
    "    <script src=\"https://code.jquery.com/jquery-3.3.1.slim.min.js\" integrity=\"sha384-q8i/X+965DzO0rT7abK41JStQIAqVgRVzpbzo5smXKp4YfRvH+8abtTE1Pi6jizo\" crossorigin=\"anonymous\"></script>\n",
    "    <script src=\"https://cdnjs.cloudflare.com/ajax/libs/popper.js/1.14.7/umd/popper.min.js\" integrity=\"sha384-UO2eT0CpHqdSJQ6hJty5KVphtPhzWj9WO1clHTMGa3JDZwrnQq4sF86dIHNDz0W1\" crossorigin=\"anonymous\"></script>\n",
    "    <script src=\"https://stackpath.bootstrapcdn.com/bootstrap/4.3.1/js/bootstrap.min.js\" integrity=\"sha384-JjSmVgyd0p3pXB1rRibZUAYoIIy6OrQ6VrjIEaFf/nJGzIxFDsf4x0xIM+B07jRM\" crossorigin=\"anonymous\"></script>\n",
    "      \n",
    "</body>\n",
    "</html>\n",
    "\"\"\""
   ]
  },
  {
   "cell_type": "markdown",
   "metadata": {},
   "source": [
    "### Navbar"
   ]
  },
  {
   "cell_type": "code",
   "execution_count": 55,
   "metadata": {},
   "outputs": [],
   "source": [
    "def navbar_section(fpath):\n",
    "    # arg fpath is the path for the directory where 'soccer.html' is\n",
    "    return f\"\"\"\n",
    "    <nav class=\"navbar navbar-expand-sm navbar-light bg-light p-0\">\n",
    "        <a class=\"navbar-brand mr-0 px-3\" href=\"{fpath}/soccer.html\">Soccer</a>\n",
    "        <button class=\"navbar-toggler\" type=\"button\" data-toggle=\"collapse\" data-target=\"#navbarSupportedContent\" aria-controls=\"navbarSupportedContent\" aria-expanded=\"false\" aria-label=\"Toggle navigation\">\n",
    "          <span class=\"navbar-toggler-icon\"></span>\n",
    "        </button>\n",
    "      \n",
    "        <div class=\"collapse navbar-collapse\" id=\"navbarSupportedContent\">\n",
    "          <ul class=\"navbar-nav mr-auto px-4\">\n",
    "            <li class=\"nav-item dropdown\">\n",
    "              <a class=\"nav-link dropdown-toggle\" href=\"#\" id=\"navbarDropdown\" role=\"button\" data-toggle=\"dropdown\" aria-haspopup=\"true\" aria-expanded=\"false\">\n",
    "                Plots\n",
    "              </a>\n",
    "              <div class=\"dropdown-menu\" aria-labelledby=\"navbarDropdown\">\n",
    "                <a class=\"dropdown-item\" href=\"maxtemp.html\">Attendance</a>\n",
    "                <a class=\"dropdown-item\" href=\"humidity.html\">Weather</a>\n",
    "                <a class=\"dropdown-item\" href=\"cloudiness.html\">Covid</a>\n",
    "              </div>\n",
    "            </li>\n",
    "            <li class=\"nav-item dropdown\">\n",
    "              <a class=\"nav-link dropdown-toggle\" href=\"#\" id=\"navbarDropdown\" role=\"button\" data-toggle=\"dropdown\" aria-haspopup=\"true\" aria-expanded=\"false\">\n",
    "                Data\n",
    "              </a>\n",
    "              <div class=\"dropdown-menu\" aria-labelledby=\"navbarDropdown\">\n",
    "                <a class=\"dropdown-item\" href=\"maxtemp.html\">Attendance and Scores</a>\n",
    "                <a class=\"dropdown-item\" href=\"humidity.html\">Weather and Scores</a>\n",
    "              </div>\n",
    "            </li>\n",
    "            <li class=\"nav-item\">\n",
    "              <a class=\"nav-link\" href=\"comparison.html\">Comparison</a>\n",
    "            </li>\n",
    "          </ul>\n",
    "        </div>\n",
    "    </nav>\n",
    "\"\"\""
   ]
  },
  {
   "cell_type": "markdown",
   "metadata": {},
   "source": [
    "### Main container"
   ]
  },
  {
   "cell_type": "code",
   "execution_count": 65,
   "metadata": {},
   "outputs": [],
   "source": [
    "container_begin = ' <div class=\"container\">'\n",
    "container_end = '    </div>'\n",
    "row_begin = '     <div class=\"row\">'\n",
    "row_end = '    </div>'\n",
    "# this body_main_row appears in 'soccer.html'\n",
    "body_main_col = \"\"\"\n",
    "          <div class=\"col-sm-12 col-md-8\">\n",
    "            <div class=\"main-box\">\n",
    "                <h1 class=\"mt-0\">Game results vs. X</h1>\n",
    "                <hr>\n",
    "                <img class=\"img-text\" src=\"assets/images/Fig0.png\" align=\"left\" alt=\"Chart\"/>   \n",
    "                <p class=\"body-font-size\">  The scope of this project is to review international \n",
    "                soccer data in the European leagues to solve the question \n",
    "                of whether or not home team advantage is real. \n",
    "                This will cover a few common assumptions such as home team\n",
    "                advantage is real because there are more fans in the \n",
    "                stadium or home team advantage is real \n",
    "                because they are more used to the weather. \n",
    "                We will be able to potentially predict how the rest of the season will continue without fans in the stadiums.\n",
    "                Key things we will analyze may include \n",
    "                but are not limited to the following: \n",
    "                <ul class=\"body-font-size\">\n",
    "                <li> How does the weather impact average goals per match at home/away?</li>\n",
    "\n",
    "                <li> How does attendance affect the scores? </li>\n",
    "\n",
    "                <li> Has COVID-19 had an impact on home-team wins because of less attendance?</li>\n",
    "                </ul>\n",
    "                    After assembling the dataset, we used Matplotlib to plot various aspects vs. game results. \n",
    "                          Factors we looked at inclused: attendance, max. temperature, and covid-effect. \n",
    "                          This site provides the source data and visualizations created as part of the analysis, \n",
    "                          as well as explanations an descriptions of any trends and correlations witnessed.\n",
    "                </p>\n",
    "            </div>\n",
    "          </div>\n",
    "\"\"\"\n",
    "def body_side_col(fpath):\n",
    "    # arg fpath is the path for the directory where visualization htmls are\n",
    "    return f\"\"\"\n",
    "        <div class=\"col-sm-12 col-md-4\" >\n",
    "            <div class=\"side-box\">\n",
    "                <h2>Visualizations</h2>\n",
    "                <hr>\n",
    "                  <div class=\"row\">\n",
    "                    <div class=\"col-3 col-md-12\">\n",
    "                        <h5>Weather</h5>\n",
    "                        <a href=\"{fpath}weather.html\"><img class=\"img-small\" src=\"assets/images/Fig1.png\" alt=\"Chart\">\n",
    "                        </a>                        \n",
    "                    </div>\n",
    "                    <div class=\"col-3 col-md-12\">\n",
    "                        <h5>Attendance</h5>\n",
    "                        <a href=\"{fpath}attendance.html\"><img class=\"img-small\" src=\"assets/images/Fig2.png\" alt=\"Chart\">\n",
    "                        </a>                        \n",
    "                    </div>\n",
    "                    <div class=\"col-3 col-md-12\">\n",
    "                        <h5>Covid</h5>\n",
    "                        <a href=\"{fpath}covid.html\"><img class=\"img-small\" src=\"assets/images/Fig3.png\" alt=\"Chart\">\n",
    "                        </a>                        \n",
    "                    </div>\n",
    "                  </div>   \n",
    "            </div>\n",
    "          </div>\n",
    "\"\"\""
   ]
  },
  {
   "cell_type": "markdown",
   "metadata": {},
   "source": [
    "### Write to 'soccer.html'"
   ]
  },
  {
   "cell_type": "code",
   "execution_count": 66,
   "metadata": {},
   "outputs": [],
   "source": [
    "with open(soccer_html, \"w\") as fileobj:\n",
    "    # write head and body_begin\n",
    "    fileobj.write(head_section)\n",
    "    # write navbar\n",
    "    fileobj.write(navbar_section('./'))\n",
    "    # write main container\n",
    "    fileobj.write(container_begin)\n",
    "    fileobj.write(row_begin)\n",
    "    fileobj.write(body_main_col)\n",
    "    fileobj.write(body_side_col('Visualizations/'))\n",
    "    fileobj.write(row_end)\n",
    "    fileobj.write(container_end)\n",
    "    # write body end\n",
    "    fileobj.write(end_section)"
   ]
  },
  {
   "cell_type": "markdown",
   "metadata": {},
   "source": [
    "### Write to 'comparison.html'"
   ]
  },
  {
   "cell_type": "code",
   "execution_count": 58,
   "metadata": {},
   "outputs": [],
   "source": [
    "body_main_row = \"\"\"\n",
    "        <div class=\"row justify-content-center\">\n",
    "          <div class=\"col-10 col-md-10 col-lg-10\">\n",
    "            <div class=\"main-box\">\n",
    "                <h1 class=\"mt-0\">Game results vs. X</h1>\n",
    "                <hr>\n",
    "                <p> Click any plot to get an in-depth analysis.</p>\n",
    "                <div class=\"row justify-content-around\">\n",
    "                    <div class=\"col-12 col-md-6 col-lg-6\">\n",
    "                        <h4>vs. Weather(Max. Temperature)</h4>\n",
    "                        <a href=\"Visualizations/weather.html\"><img class=\"img-all\" src=\"assets/images/Fig1.png\" alt=\"Chart\">\n",
    "                        </a>                        \n",
    "                    </div>\n",
    "                    <div class=\"col-12 col-md-6 col-lg-6\">\n",
    "                        <h4>vs. Attendance</h4>\n",
    "                        <a href=\"Visualizations/attendance.html\"><img class=\"img-all\" src=\"assets/images/Fig2.png\" alt=\"Chart\">\n",
    "                        </a>                        \n",
    "                    </div>\n",
    "                </div>\n",
    "                <div class=\"row justify-content-center\">\n",
    "                    <div class=\"col-12 col-md-6 col-lg-6\">\n",
    "                        <h4> vs. Covid (no attendance)</h4>\n",
    "                        <a href=\"Visualizations/covid.html\"><img class=\"img-all\" src=\"assets/images/Fig3.png\" alt=\"Chart\">\n",
    "                        </a>                        \n",
    "                    </div>\n",
    "                </div>\n",
    "            </div>\n",
    "          </div>\n",
    "        </div>\n",
    "\"\"\""
   ]
  },
  {
   "cell_type": "code",
   "execution_count": 59,
   "metadata": {},
   "outputs": [],
   "source": [
    "with open(comparison_html, \"w\") as fileobj:\n",
    "    fileobj.write(head_section)\n",
    "    fileobj.write(navbar_section('./'))\n",
    "    fileobj.write(container_begin)\n",
    "    fileobj.write(body_main_row)\n",
    "    fileobj.write(container_end)\n",
    "    fileobj.write(end_section)"
   ]
  },
  {
   "cell_type": "markdown",
   "metadata": {},
   "source": [
    "### Visualizations html\n",
    "* Weather\n",
    "* Attendance\n",
    "* Covid"
   ]
  },
  {
   "cell_type": "code",
   "execution_count": null,
   "metadata": {},
   "outputs": [],
   "source": []
  },
  {
   "cell_type": "code",
   "execution_count": null,
   "metadata": {},
   "outputs": [],
   "source": []
  },
  {
   "cell_type": "code",
   "execution_count": null,
   "metadata": {},
   "outputs": [],
   "source": [
    "def visualization_main_row(analysis,img_src,html_src):\n",
    "    return f\"\"\"\n",
    "        <div class=\"row\">\n",
    "          <div class=\"col-sm-12 col-md-8\">\n",
    "            <div class=\"main-box\">\n",
    "                <h1 class=\"mt-0\">Max. Temperature</h1>\n",
    "                <hr>\n",
    "                <img class=\"img-all\" src={img_src} align=\"center\" alt=\"Chart for Latitude vs. Max. Temperature\"/>   \n",
    "                <p> {analysis}\n",
    "                </p>\n",
    "            </div>\n",
    "          </div>          \n",
    "        </div>\n",
    "\"\"\""
   ]
  },
  {
   "cell_type": "code",
   "execution_count": null,
   "metadata": {},
   "outputs": [],
   "source": [
    "analysis =\"\"\"\n",
    "\"\"\"\n",
    "img_src = ''\n",
    "html_src = \n",
    "with open(attenance_plot, \"w\") as fileobj:\n",
    "    # write head and body_begin\n",
    "    fileobj.write(head_section)\n",
    "    # write navbar\n",
    "    fileobj.write(navbar_section('../'))\n",
    "    # write main container\n",
    "    fileobj.write(container_begin)\n",
    "    fileobj.write(visualization_main_row(analysis,img_src,html_src))\n",
    "    fileobj.write(body_side_box('Visualizations/'))\n",
    "    fileobj.write(container_end)\n",
    "    # write body end\n",
    "    fileobj.write(end_section)"
   ]
  }
 ],
 "metadata": {
  "kernelspec": {
   "display_name": "Python [conda env:PythonData] *",
   "language": "python",
   "name": "conda-env-PythonData-py"
  },
  "language_info": {
   "codemirror_mode": {
    "name": "ipython",
    "version": 3
   },
   "file_extension": ".py",
   "mimetype": "text/x-python",
   "name": "python",
   "nbconvert_exporter": "python",
   "pygments_lexer": "ipython3",
   "version": "3.6.10"
  }
 },
 "nbformat": 4,
 "nbformat_minor": 4
}
